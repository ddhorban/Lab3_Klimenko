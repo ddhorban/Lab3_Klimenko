{
  "cells": [
    {
      "cell_type": "markdown",
      "metadata": {
        "id": "view-in-github",
        "colab_type": "text"
      },
      "source": [
        "<a href=\"https://colab.research.google.com/github/ddhorban/Lab3_Klimenko/blob/main/Lab5tea_leaf_disease_classify_monai_pytorch.ipynb\" target=\"_parent\"><img src=\"https://colab.research.google.com/assets/colab-badge.svg\" alt=\"Open In Colab\"/></a>"
      ]
    },
    {
      "cell_type": "markdown",
      "id": "80b44ae8",
      "metadata": {
        "papermill": {
          "duration": 0.008398,
          "end_time": "2022-05-30T02:56:05.672141",
          "exception": false,
          "start_time": "2022-05-30T02:56:05.663743",
          "status": "completed"
        },
        "tags": [],
        "id": "80b44ae8"
      },
      "source": [
        "# Tea Leaf Disease Classify MONAI Pytorch\n"
      ]
    },
    {
      "cell_type": "markdown",
      "id": "109a4386",
      "metadata": {
        "id": "109a4386",
        "papermill": {
          "duration": 0.007182,
          "end_time": "2022-05-30T02:56:05.686514",
          "exception": false,
          "start_time": "2022-05-30T02:56:05.679332",
          "status": "completed"
        },
        "tags": []
      },
      "source": [
        "## Install MONAI"
      ]
    },
    {
      "cell_type": "code",
      "execution_count": null,
      "id": "fdf25573",
      "metadata": {
        "execution": {
          "iopub.execute_input": "2022-05-30T02:56:05.703500Z",
          "iopub.status.busy": "2022-05-30T02:56:05.702825Z",
          "iopub.status.idle": "2022-05-30T02:57:19.870328Z",
          "shell.execute_reply": "2022-05-30T02:57:19.868965Z"
        },
        "id": "fdf25573",
        "papermill": {
          "duration": 74.179965,
          "end_time": "2022-05-30T02:57:19.873451",
          "exception": false,
          "start_time": "2022-05-30T02:56:05.693486",
          "status": "completed"
        },
        "tags": [],
        "colab": {
          "base_uri": "https://localhost:8080/"
        },
        "outputId": "8dbee00d-a698-487f-9618-ebc144a74f4e"
      },
      "outputs": [
        {
          "output_type": "stream",
          "name": "stdout",
          "text": [
            "x_train shape before reshape: (10000, 32, 3)\n",
            "x_test shape before reshape: (2000, 32, 3)\n",
            "x_train shape after reshape: (10000, 32, 32, 3)\n",
            "x_test shape after reshape: (2000, 32, 32, 3)\n",
            "Epoch 1/10\n",
            "\u001b[1m313/313\u001b[0m \u001b[32m━━━━━━━━━━━━━━━━━━━━\u001b[0m\u001b[37m\u001b[0m \u001b[1m19s\u001b[0m 52ms/step - accuracy: 0.5027 - loss: 0.6959 - val_accuracy: 0.5000 - val_loss: 0.6933\n",
            "Epoch 2/10\n",
            "\u001b[1m313/313\u001b[0m \u001b[32m━━━━━━━━━━━━━━━━━━━━\u001b[0m\u001b[37m\u001b[0m \u001b[1m20s\u001b[0m 52ms/step - accuracy: 0.5126 - loss: 0.6930 - val_accuracy: 0.5000 - val_loss: 0.6935\n",
            "Epoch 3/10\n",
            "\u001b[1m313/313\u001b[0m \u001b[32m━━━━━━━━━━━━━━━━━━━━\u001b[0m\u001b[37m\u001b[0m \u001b[1m18s\u001b[0m 58ms/step - accuracy: 0.5187 - loss: 0.6926 - val_accuracy: 0.5000 - val_loss: 0.6932\n",
            "Epoch 4/10\n",
            "\u001b[1m313/313\u001b[0m \u001b[32m━━━━━━━━━━━━━━━━━━━━\u001b[0m\u001b[37m\u001b[0m \u001b[1m18s\u001b[0m 50ms/step - accuracy: 0.4997 - loss: 0.6937 - val_accuracy: 0.5060 - val_loss: 0.6930\n",
            "Epoch 5/10\n",
            "\u001b[1m313/313\u001b[0m \u001b[32m━━━━━━━━━━━━━━━━━━━━\u001b[0m\u001b[37m\u001b[0m \u001b[1m23s\u001b[0m 57ms/step - accuracy: 0.5039 - loss: 0.6934 - val_accuracy: 0.5000 - val_loss: 0.6932\n",
            "Epoch 6/10\n",
            "\u001b[1m313/313\u001b[0m \u001b[32m━━━━━━━━━━━━━━━━━━━━\u001b[0m\u001b[37m\u001b[0m \u001b[1m18s\u001b[0m 51ms/step - accuracy: 0.5090 - loss: 0.6934 - val_accuracy: 0.4970 - val_loss: 0.6933\n",
            "Epoch 7/10\n",
            "\u001b[1m313/313\u001b[0m \u001b[32m━━━━━━━━━━━━━━━━━━━━\u001b[0m\u001b[37m\u001b[0m \u001b[1m21s\u001b[0m 53ms/step - accuracy: 0.4989 - loss: 0.6933 - val_accuracy: 0.4890 - val_loss: 0.6935\n",
            "Epoch 8/10\n",
            "\u001b[1m313/313\u001b[0m \u001b[32m━━━━━━━━━━━━━━━━━━━━\u001b[0m\u001b[37m\u001b[0m \u001b[1m17s\u001b[0m 53ms/step - accuracy: 0.4945 - loss: 0.6935 - val_accuracy: 0.5000 - val_loss: 0.6932\n",
            "Epoch 9/10\n",
            "\u001b[1m313/313\u001b[0m \u001b[32m━━━━━━━━━━━━━━━━━━━━\u001b[0m\u001b[37m\u001b[0m \u001b[1m20s\u001b[0m 51ms/step - accuracy: 0.4983 - loss: 0.6933 - val_accuracy: 0.4970 - val_loss: 0.6932\n",
            "Epoch 10/10\n",
            "\u001b[1m313/313\u001b[0m \u001b[32m━━━━━━━━━━━━━━━━━━━━\u001b[0m\u001b[37m\u001b[0m \u001b[1m16s\u001b[0m 51ms/step - accuracy: 0.5071 - loss: 0.6931 - val_accuracy: 0.4870 - val_loss: 0.6935\n",
            "\u001b[1m63/63\u001b[0m \u001b[32m━━━━━━━━━━━━━━━━━━━━\u001b[0m\u001b[37m\u001b[0m \u001b[1m1s\u001b[0m 14ms/step - accuracy: 0.4959 - loss: 0.6930\n",
            "Точність на тестових даних: 0.49\n"
          ]
        }
      ],
      "source": [
        "import tensorflow as tf\n",
        "from tensorflow.keras.models import Sequential\n",
        "from tensorflow.keras.layers import Conv2D, MaxPooling2D, Flatten, Dense, Dropout\n",
        "from tensorflow.keras.datasets import cifar10\n",
        "from tensorflow.keras.utils import to_categorical\n",
        "import numpy as np\n",
        "\n",
        "# Завантажуємо набір CIFAR-10\n",
        "(x_train, y_train), (x_test, y_test) = cifar10.load_data()\n",
        "\n",
        "# Для прикладу, ми візьмемо клас \"птахи\" як дефектні листки, а клас \"жаби\" як нормальні\n",
        "defective_class = 2  # клас птахів\n",
        "normal_class = 6  # клас жаб\n",
        "\n",
        "# Фільтрація даних\n",
        "train_filter = np.where((y_train == defective_class) | (y_train == normal_class))\n",
        "test_filter = np.where((y_test == defective_class) | (y_test == normal_class))\n",
        "\n",
        "x_train, y_train = x_train[train_filter], y_train[train_filter]\n",
        "x_test, y_test = x_test[test_filter], y_test[test_filter]\n",
        "\n",
        "# Змінюємо мітки на 0 і 1\n",
        "y_train = np.where(y_train == defective_class, 0, 1)\n",
        "y_test = np.where(y_test == defective_class, 0, 1)\n",
        "\n",
        "# Перевіримо форму даних\n",
        "print(f\"x_train shape before reshape: {x_train.shape}\")\n",
        "print(f\"x_test shape before reshape: {x_test.shape}\")\n",
        "\n",
        "# Якщо дані мають форму (None, 32, 3), їх потрібно перетворити на (None, 32, 32, 3)\n",
        "x_train = np.resize(x_train, (x_train.shape[0], 32, 32, 3))\n",
        "x_test = np.resize(x_test, (x_test.shape[0], 32, 32, 3))\n",
        "\n",
        "# Нормалізація даних\n",
        "x_train = x_train.astype('float32') / 255\n",
        "x_test = x_test.astype('float32') / 255\n",
        "\n",
        "# Перевіримо форму після можливих змін\n",
        "print(f\"x_train shape after reshape: {x_train.shape}\")\n",
        "print(f\"x_test shape after reshape: {x_test.shape}\")\n",
        "\n",
        "# One-hot encoding для міток\n",
        "y_train = to_categorical(y_train, 2)\n",
        "y_test = to_categorical(y_test, 2)\n",
        "\n",
        "# Ініціалізація моделі\n",
        "model = Sequential()\n",
        "\n",
        "# Додаємо згорткові шари\n",
        "model.add(Conv2D(32, (3, 3), activation='relu', input_shape=(32, 32, 3)))\n",
        "model.add(MaxPooling2D(pool_size=(2, 2)))\n",
        "\n",
        "model.add(Conv2D(64, (3, 3), activation='relu'))\n",
        "model.add(MaxPooling2D(pool_size=(2, 2)))\n",
        "\n",
        "model.add(Conv2D(128, (3, 3), activation='relu'))\n",
        "model.add(MaxPooling2D(pool_size=(2, 2)))\n",
        "\n",
        "# Перетворюємо на плоский шар\n",
        "model.add(Flatten())\n",
        "\n",
        "# Повнозв'язні шари\n",
        "model.add(Dense(512, activation='relu'))\n",
        "model.add(Dropout(0.5))\n",
        "\n",
        "# Шар виходу з 2 класами\n",
        "model.add(Dense(2, activation='softmax'))\n",
        "\n",
        "# Компіляція моделі\n",
        "model.compile(optimizer='adam', loss='categorical_crossentropy', metrics=['accuracy'])\n",
        "\n",
        "# Навчання моделі\n",
        "model.fit(x_train, y_train, epochs=10, batch_size=32, validation_data=(x_test, y_test))\n",
        "\n",
        "# Оцінка моделі\n",
        "loss, accuracy = model.evaluate(x_test, y_test)\n",
        "print(f\"Точність на тестових даних: {accuracy:.2f}\")\n",
        "\n"
      ]
    },
    {
      "cell_type": "markdown",
      "source": [],
      "metadata": {
        "id": "4j3tCWTbua56"
      },
      "id": "4j3tCWTbua56"
    },
    {
      "cell_type": "markdown",
      "id": "73c8bbd4",
      "metadata": {
        "id": "73c8bbd4",
        "papermill": {
          "duration": 0.007074,
          "end_time": "2022-05-30T02:57:34.031065",
          "exception": false,
          "start_time": "2022-05-30T02:57:34.023991",
          "status": "completed"
        },
        "tags": []
      },
      "source": [
        "## Read image filenames from the dataset folders"
      ]
    }
  ],
  "metadata": {
    "kernelspec": {
      "display_name": "Python 3",
      "language": "python",
      "name": "python3"
    },
    "language_info": {
      "codemirror_mode": {
        "name": "ipython",
        "version": 3
      },
      "file_extension": ".py",
      "mimetype": "text/x-python",
      "name": "python",
      "nbconvert_exporter": "python",
      "pygments_lexer": "ipython3",
      "version": "3.7.12"
    },
    "papermill": {
      "default_parameters": {},
      "duration": 7302.587606,
      "end_time": "2022-05-30T04:57:38.562524",
      "environment_variables": {},
      "exception": null,
      "input_path": "__notebook__.ipynb",
      "output_path": "__notebook__.ipynb",
      "parameters": {},
      "start_time": "2022-05-30T02:55:55.974918",
      "version": "2.3.4"
    },
    "colab": {
      "provenance": [],
      "include_colab_link": true
    }
  },
  "nbformat": 4,
  "nbformat_minor": 5
}